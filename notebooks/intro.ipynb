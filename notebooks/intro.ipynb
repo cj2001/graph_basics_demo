{
 "cells": [
  {
   "cell_type": "markdown",
   "metadata": {
    "slideshow": {
     "slide_type": "slide"
    }
   },
   "source": [
    "# Let's walk through a bit of code exploring the Game of Thrones graph."
   ]
  },
  {
   "cell_type": "code",
   "execution_count": 1,
   "metadata": {
    "slideshow": {
     "slide_type": "skip"
    }
   },
   "outputs": [],
   "source": [
    "import numpy as np\n",
    "import pandas as pd\n",
    "from neo4j import GraphDatabase"
   ]
  },
  {
   "cell_type": "markdown",
   "metadata": {
    "slideshow": {
     "slide_type": "subslide"
    }
   },
   "source": [
    "# Connection to running Neo4j Database\n",
    "\n",
    "For information on how to get the database up and running and connecting JupyterLab to it, you can use the Docker container described in  [this](https://dev.neo4j.com/docker_neo_jupyter) blog post.  Once the database container is up and running, you can load in the Game of Thrones dataset by typing `:play https://guides.neo4j.com/sandbox/graph-data-science/index.html` in the desktop browser."
   ]
  },
  {
   "cell_type": "code",
   "execution_count": 36,
   "metadata": {
    "slideshow": {
     "slide_type": "subslide"
    }
   },
   "outputs": [],
   "source": [
    "class Neo4jConnection:\n",
    "    \n",
    "    def __init__(self, uri, user, pwd):\n",
    "        self.__uri = uri\n",
    "        self.__user = user\n",
    "        self.__pwd = pwd\n",
    "        self.__driver = None\n",
    "        try:\n",
    "            self.__driver = GraphDatabase.driver(self.__uri, auth=(self.__user, self.__pwd))\n",
    "        except Exception as e:\n",
    "            print(\"Failed to create the driver:\", e)\n",
    "        \n",
    "    def close(self):\n",
    "        if self.__driver is not None:\n",
    "            self.__driver.close()\n",
    "        \n",
    "    def query(self, query, parameters=None, db=None):\n",
    "        assert self.__driver is not None, \"Driver not initialized!\"\n",
    "        session = None\n",
    "        response = None\n",
    "        try: \n",
    "            session = self.__driver.session(database=db) if db is not None else self.__driver.session() \n",
    "            response = list(session.run(query, parameters))\n",
    "        except Exception as e:\n",
    "            print(\"Query failed:\", e)\n",
    "        finally: \n",
    "            if session is not None:\n",
    "                session.close()\n",
    "        return response"
   ]
  },
  {
   "cell_type": "code",
   "execution_count": 6,
   "metadata": {
    "slideshow": {
     "slide_type": "subslide"
    }
   },
   "outputs": [],
   "source": [
    "conn = Neo4jConnection(uri='bolt://neo4j:7687', user='neo4j', pwd='1234')"
   ]
  },
  {
   "cell_type": "code",
   "execution_count": 7,
   "metadata": {
    "slideshow": {
     "slide_type": "subslide"
    }
   },
   "outputs": [
    {
     "data": {
      "text/plain": [
       "[<Record COUNT(n)=2640>]"
      ]
     },
     "execution_count": 7,
     "metadata": {},
     "output_type": "execute_result"
    }
   ],
   "source": [
    "conn.query('MATCH (n) RETURN COUNT(n)')"
   ]
  },
  {
   "cell_type": "markdown",
   "metadata": {
    "slideshow": {
     "slide_type": "slide"
    }
   },
   "source": [
    "# Moving into some data science...\n",
    "\n",
    "We start by creating an in-memory graph, which allows data science calculations to be done on portions of the overall database."
   ]
  },
  {
   "cell_type": "code",
   "execution_count": 8,
   "metadata": {
    "slideshow": {
     "slide_type": "slide"
    }
   },
   "outputs": [
    {
     "data": {
      "text/plain": [
       "[<Record nodeProjection={'Person': {'properties': {}, 'label': 'Person'}} relationshipProjection={'__ALL__': {'orientation': 'NATURAL', 'aggregation': 'DEFAULT', 'type': '*', 'properties': {}}} graphName='People' nodeCount=2166 relationshipCount=8160 createMillis=13>]"
      ]
     },
     "execution_count": 8,
     "metadata": {},
     "output_type": "execute_result"
    }
   ],
   "source": [
    "query = \"\"\"CALL gds.graph.create('People', 'Person', '*')\"\"\"\n",
    "\n",
    "conn.query(query)"
   ]
  },
  {
   "cell_type": "markdown",
   "metadata": {
    "slideshow": {
     "slide_type": "slide"
    }
   },
   "source": [
    "# Calculations such as PageRank"
   ]
  },
  {
   "cell_type": "code",
   "execution_count": 9,
   "metadata": {
    "slideshow": {
     "slide_type": "slide"
    }
   },
   "outputs": [
    {
     "data": {
      "text/plain": [
       "[<Record name='Tyrion Lannister' pagerank=14.433243666728849>,\n",
       " <Record name='Stannis Baratheon' pagerank=8.389969761197266>,\n",
       " <Record name='Tywin Lannister' pagerank=8.363584681922404>,\n",
       " <Record name='Varys' pagerank=7.135125708653154>,\n",
       " <Record name='Yandry' pagerank=5.547890947202233>,\n",
       " <Record name='Ysilla' pagerank=5.523587903582166>,\n",
       " <Record name='Theon Greyjoy' pagerank=4.7450533128958385>,\n",
       " <Record name='Walder Frey' pagerank=4.526322653622577>,\n",
       " <Record name='Sansa Stark' pagerank=4.490734064387214>,\n",
       " <Record name='Perra Royce' pagerank=3.9973645459220277>,\n",
       " <Record name='Robb Stark' pagerank=3.30253713930421>,\n",
       " <Record name='Steffon Baratheon' pagerank=3.2228749673743544>,\n",
       " <Record name='Samwell Tarly' pagerank=3.216146497248358>,\n",
       " <Record name='Tommen Baratheon' pagerank=3.062266702175972>,\n",
       " <Record name='Jon Snow' pagerank=3.05430071565156>,\n",
       " <Record name='Cassana Estermont' pagerank=3.0228800240751106>,\n",
       " <Record name='Wyman Manderly' pagerank=2.693367135746848>,\n",
       " <Record name='Robert Baratheon' pagerank=2.6266619077198112>,\n",
       " <Record name='Victarion Greyjoy' pagerank=2.453153666403721>,\n",
       " <Record name='Tysha' pagerank=2.3394115984022275>]"
      ]
     },
     "execution_count": 9,
     "metadata": {},
     "output_type": "execute_result"
    }
   ],
   "source": [
    "query = \"\"\"\n",
    "    CALL gds.pageRank.stream('People')\n",
    "    YIELD nodeId, score\n",
    "    RETURN gds.util.asNode(nodeId).name AS name, score as pagerank\n",
    "    ORDER BY pagerank DESC\n",
    "    LIMIT 20\n",
    "\"\"\"\n",
    "\n",
    "conn.query(query)"
   ]
  },
  {
   "cell_type": "markdown",
   "metadata": {
    "slideshow": {
     "slide_type": "slide"
    }
   },
   "source": [
    "# Oops!  I don't recognize some of those characters!"
   ]
  },
  {
   "cell_type": "code",
   "execution_count": 11,
   "metadata": {
    "slideshow": {
     "slide_type": "slide"
    }
   },
   "outputs": [
    {
     "data": {
      "text/plain": [
       "[<Record nodeProjection={'Person': {'properties': {}, 'label': 'Person'}} relationshipProjection={'INTERACTS': {'orientation': 'NATURAL', 'aggregation': 'DEFAULT', 'type': 'INTERACTS', 'properties': {}}} graphName='PeopleInteractions' nodeCount=2166 relationshipCount=3907 createMillis=13>]"
      ]
     },
     "execution_count": 11,
     "metadata": {},
     "output_type": "execute_result"
    }
   ],
   "source": [
    "query = \"\"\"CALL gds.graph.create('PeopleInteractions', 'Person', 'INTERACTS')\"\"\"\n",
    "\n",
    "conn.query(query)"
   ]
  },
  {
   "cell_type": "code",
   "execution_count": 12,
   "metadata": {
    "slideshow": {
     "slide_type": "slide"
    }
   },
   "outputs": [
    {
     "data": {
      "text/plain": [
       "[<Record name='Tyrion Lannister' pagerank=11.99075112408506>,\n",
       " <Record name='Stannis Baratheon' pagerank=7.639891735779173>,\n",
       " <Record name='Tywin Lannister' pagerank=7.422262851899261>,\n",
       " <Record name='Varys' pagerank=6.5366806067733085>,\n",
       " <Record name='Theon Greyjoy' pagerank=4.604171226727502>,\n",
       " <Record name='Sansa Stark' pagerank=4.188611313313987>,\n",
       " <Record name='Walder Frey' pagerank=3.375046840109691>,\n",
       " <Record name='Robb Stark' pagerank=3.1105864392977223>,\n",
       " <Record name='Samwell Tarly' pagerank=3.0062773761317825>,\n",
       " <Record name='Tommen Baratheon' pagerank=2.958087542768285>,\n",
       " <Record name='Jon Snow' pagerank=2.9469302914539055>,\n",
       " <Record name='Wyman Manderly' pagerank=2.486454424816056>,\n",
       " <Record name='Victarion Greyjoy' pagerank=2.4621002941036965>,\n",
       " <Record name='Wulfe' pagerank=2.2427852925207183>,\n",
       " <Record name='Robert Baratheon' pagerank=2.242134340671639>,\n",
       " <Record name='Wex Pyke' pagerank=1.8133532572478532>,\n",
       " <Record name='Tysha' pagerank=1.8099126702539843>,\n",
       " <Record name='Ygritte' pagerank=1.6867280516292298>,\n",
       " <Record name='Zollo' pagerank=1.6000104883420043>,\n",
       " <Record name='Jaime Lannister' pagerank=1.5971982339720652>]"
      ]
     },
     "execution_count": 12,
     "metadata": {},
     "output_type": "execute_result"
    }
   ],
   "source": [
    "query = \"\"\"\n",
    "    CALL gds.pageRank.stream('PeopleInteractions')\n",
    "    YIELD nodeId, score\n",
    "    RETURN gds.util.asNode(nodeId).name AS name, score as pagerank\n",
    "    ORDER BY pagerank DESC\n",
    "    LIMIT 20\n",
    "\"\"\"\n",
    "\n",
    "conn.query(query)"
   ]
  },
  {
   "cell_type": "markdown",
   "metadata": {
    "slideshow": {
     "slide_type": "slide"
    }
   },
   "source": [
    "# That's better!\n",
    "\n",
    "Now let's write those values to the nodes themselves so we can sort out lower importance characters in the upcoming queries."
   ]
  },
  {
   "cell_type": "code",
   "execution_count": 14,
   "metadata": {
    "slideshow": {
     "slide_type": "slide"
    }
   },
   "outputs": [
    {
     "data": {
      "text/plain": [
       "[<Record writeMillis=293 nodePropertiesWritten=2166 ranIterations=15 didConverge=True centralityDistribution={'p99': 1.4541616439819336, 'min': 0.14999961853027344, 'max': 11.990782737731934, 'mean': 0.2251694429173914, 'p90': 0.27559757232666016, 'p50': 0.14999961853027344, 'p999': 7.422270774841309, 'p95': 0.4626455307006836, 'p75': 0.15515899658203125} postProcessingMillis=30 createMillis=0 computeMillis=1068 configuration={'maxIterations': 20, 'writeConcurrency': 4, 'relationshipWeightProperty': None, 'cacheWeights': False, 'concurrency': 4, 'sourceNodes': [], 'writeProperty': 'pagerank', 'nodeLabels': ['*'], 'sudo': False, 'dampingFactor': 0.85, 'relationshipTypes': ['*'], 'tolerance': 1e-07}>]"
      ]
     },
     "execution_count": 14,
     "metadata": {},
     "output_type": "execute_result"
    }
   ],
   "source": [
    "query = \"\"\"\n",
    "    CALL gds.pageRank.write('PeopleInteractions', {\n",
    "           maxIterations:20,\n",
    "           dampingFactor: 0.85,\n",
    "           writeProperty: 'pagerank'\n",
    "        }\n",
    "    )\n",
    "\"\"\"\n",
    "\n",
    "conn.query(query)"
   ]
  },
  {
   "cell_type": "markdown",
   "metadata": {
    "slideshow": {
     "slide_type": "slide"
    }
   },
   "source": [
    "# What about node similarity?"
   ]
  },
  {
   "cell_type": "code",
   "execution_count": 20,
   "metadata": {
    "slideshow": {
     "slide_type": "slide"
    }
   },
   "outputs": [
    {
     "data": {
      "text/plain": [
       "[<Record character1='Cersei Lannister' character2='Joffrey Baratheon' similarity=0.3409090909090909>,\n",
       " <Record character1='Joffrey Baratheon' character2='Gregor Clegane' similarity=0.3409090909090909>,\n",
       " <Record character1='Gregor Clegane' character2='Joffrey Baratheon' similarity=0.3409090909090909>,\n",
       " <Record character1='Joffrey Baratheon' character2='Cersei Lannister' similarity=0.3409090909090909>,\n",
       " <Record character1='Joffrey Baratheon' character2='Jaime Lannister' similarity=0.3333333333333333>,\n",
       " <Record character1='Jaime Lannister' character2='Joffrey Baratheon' similarity=0.3333333333333333>,\n",
       " <Record character1='Amory Lorch' character2='Gregor Clegane' similarity=0.3225806451612903>,\n",
       " <Record character1='Gregor Clegane' character2='Amory Lorch' similarity=0.3225806451612903>,\n",
       " <Record character1='Jaime Lannister' character2='Cersei Lannister' similarity=0.2920353982300885>,\n",
       " <Record character1='Cersei Lannister' character2='Jaime Lannister' similarity=0.2920353982300885>]"
      ]
     },
     "execution_count": 20,
     "metadata": {},
     "output_type": "execute_result"
    }
   ],
   "source": [
    "query = \"\"\"\n",
    "    CALL gds.nodeSimilarity.stream(\n",
    "      'PeopleInteractions',\n",
    "      {\n",
    "        degreeCutoff: 20\n",
    "      }\n",
    "    )\n",
    "    YIELD node1, node2, similarity\n",
    "    RETURN gds.util.asNode(node1).name AS character1, gds.util.asNode(node2).name AS character2, similarity\n",
    "    ORDER BY similarity DESC\n",
    "LIMIT 10\n",
    "\"\"\"\n",
    "\n",
    "conn.query(query)"
   ]
  },
  {
   "cell_type": "markdown",
   "metadata": {
    "slideshow": {
     "slide_type": "slide"
    }
   },
   "source": [
    "# Didn't you say weighted graphs are cool?"
   ]
  },
  {
   "cell_type": "code",
   "execution_count": null,
   "metadata": {
    "slideshow": {
     "slide_type": "slide"
    }
   },
   "outputs": [],
   "source": [
    "query = \"\"\"\n",
    "    CALL gds.graph.create(\n",
    "      'got-weighted-interactions',\n",
    "      'Person',\n",
    "      {\n",
    "        INTERACTS: {\n",
    "          type: 'INTERACTS',\n",
    "          orientation: 'UNDIRECTED',\n",
    "          aggregation: 'NONE',\n",
    "          properties: {\n",
    "            weight: {\n",
    "              property: 'weight',\n",
    "              aggregation: 'NONE',\n",
    "              defaultValue: 0.0\n",
    "            }\n",
    "          }\n",
    "        }\n",
    "      }\n",
    "    )\n",
    "\"\"\"\n",
    "\n",
    "conn.query(query)"
   ]
  },
  {
   "cell_type": "markdown",
   "metadata": {
    "slideshow": {
     "slide_type": "slide"
    }
   },
   "source": [
    "# Community detection with Louvain"
   ]
  },
  {
   "cell_type": "code",
   "execution_count": 24,
   "metadata": {
    "slideshow": {
     "slide_type": "slide"
    }
   },
   "outputs": [
    {
     "data": {
      "text/plain": [
       "[<Record name='Andros Brax' communityId=2>,\n",
       " <Record name='Medger Cerwyn' communityId=5>,\n",
       " <Record name='Harrion Karstark' communityId=6>,\n",
       " <Record name='Aeron Greyjoy' communityId=13>,\n",
       " <Record name='Aggar' communityId=13>,\n",
       " <Record name='Alysane Mormont' communityId=13>,\n",
       " <Record name='Asha Greyjoy' communityId=13>,\n",
       " <Record name='Baelor Blacktyde' communityId=13>,\n",
       " <Record name='Balon Greyjoy' communityId=13>,\n",
       " <Record name='Barbrey Dustin' communityId=13>]"
      ]
     },
     "execution_count": 24,
     "metadata": {},
     "output_type": "execute_result"
    }
   ],
   "source": [
    "query = \"\"\"\n",
    "    CALL gds.louvain.stream('got-weighted-interactions', { relationshipWeightProperty: 'weight' })\n",
    "    YIELD nodeId, communityId, intermediateCommunityIds\n",
    "    RETURN gds.util.asNode(nodeId).name AS name, communityId\n",
    "    ORDER BY communityId, name ASC\n",
    "    LIMIT 10\n",
    "\"\"\"\n",
    "\n",
    "conn.query(query)"
   ]
  },
  {
   "cell_type": "code",
   "execution_count": 26,
   "metadata": {
    "slideshow": {
     "slide_type": "subslide"
    }
   },
   "outputs": [
    {
     "data": {
      "text/plain": [
       "[<Record communityCount=1382 modularity=0.5680039220030543 modularities=[0.4857842129222886, 0.5660974254959941, 0.5680039220030543]>]"
      ]
     },
     "execution_count": 26,
     "metadata": {},
     "output_type": "execute_result"
    }
   ],
   "source": [
    "query = \"\"\"\n",
    "    CALL gds.louvain.write('got-weighted-interactions', { writeProperty: 'community' })\n",
    "    YIELD communityCount, modularity, modularities\n",
    "\"\"\"\n",
    "\n",
    "conn.query(query)"
   ]
  },
  {
   "cell_type": "markdown",
   "metadata": {
    "slideshow": {
     "slide_type": "slide"
    }
   },
   "source": [
    "# What communities are our major characters in?  (And do they make sense?)"
   ]
  },
  {
   "cell_type": "code",
   "execution_count": 27,
   "metadata": {
    "slideshow": {
     "slide_type": "slide"
    }
   },
   "outputs": [
    {
     "data": {
      "text/plain": [
       "[<Record p.name='Sansa Stark' p.community=203 p.pagerank=4.188611313313987>,\n",
       " <Record p.name='Robb Stark' p.community=530 p.pagerank=3.1105864392977223>,\n",
       " <Record p.name='Rickon Stark' p.community=530 p.pagerank=0.6512236041828712>,\n",
       " <Record p.name='Eddard Stark' p.community=530 p.pagerank=0.5706054216015581>,\n",
       " <Record p.name='Catelyn Stark' p.community=530 p.pagerank=0.3706267732950437>,\n",
       " <Record p.name='Arya Stark' p.community=334 p.pagerank=0.2653351478278637>,\n",
       " <Record p.name='Bran Stark' p.community=530 p.pagerank=0.24500166895049916>,\n",
       " <Record p.name='Lyanna Stark' p.community=530 p.pagerank=0.17152057029271678>,\n",
       " <Record p.name='Rickard Stark' p.community=530 p.pagerank=0.16875453488060546>,\n",
       " <Record p.name='Torrhen Stark' p.community=530 p.pagerank=0.1667506389432791>]"
      ]
     },
     "execution_count": 27,
     "metadata": {},
     "output_type": "execute_result"
    }
   ],
   "source": [
    "query = \"\"\"\n",
    "    MATCH (p:Person)\n",
    "    WHERE p.name CONTAINS 'Stark'\n",
    "    RETURN p.name, p.community, p.pagerank\n",
    "    ORDER BY p.pagerank DESC, p.community\n",
    "    LIMIT 10\n",
    "\"\"\"\n",
    "\n",
    "conn.query(query)"
   ]
  },
  {
   "cell_type": "markdown",
   "metadata": {
    "slideshow": {
     "slide_type": "slide"
    }
   },
   "source": [
    "# Cool.  But what about machine learning?"
   ]
  },
  {
   "cell_type": "code",
   "execution_count": 29,
   "metadata": {
    "slideshow": {
     "slide_type": "slide"
    }
   },
   "outputs": [
    {
     "data": {
      "text/plain": [
       "[<Record nodeCount=2166 nodePropertiesWritten=2166 createMillis=0 computeMillis=3 writeMillis=55 configuration={'writeConcurrency': 4, 'normalizationStrength': 0.0, 'writeProperty': 'frp_emb', 'iterationWeights': [0.0, 1.0, 1.0], 'embeddingDimension': 4, 'relationshipWeightProperty': None, 'nodeLabels': ['*'], 'sudo': False, 'relationshipTypes': ['*'], 'concurrency': 4}>]"
      ]
     },
     "execution_count": 29,
     "metadata": {},
     "output_type": "execute_result"
    }
   ],
   "source": [
    "query = \"\"\"\n",
    "    CALL gds.fastRP.write(\n",
    "        'got-weighted-interactions',\n",
    "        {embeddingDimension: 4, writeProperty: 'frp_emb'}\n",
    "    )\n",
    "\"\"\"\n",
    "\n",
    "conn.query(query)"
   ]
  },
  {
   "cell_type": "code",
   "execution_count": 30,
   "metadata": {
    "slideshow": {
     "slide_type": "slide"
    }
   },
   "outputs": [
    {
     "data": {
      "text/plain": [
       "[<Record p.name='Tyrion Lannister' p.frp_emb=[-0.8826401829719543, -0.3535643219947815, 1.2257000207901, 1.254091501235962]>,\n",
       " <Record p.name='Tywin Lannister' p.frp_emb=[-0.7263013124465942, -0.3305906057357788, 1.39788818359375, 1.1425588130950928]>,\n",
       " <Record p.name='Jaime Lannister' p.frp_emb=[-0.7126740217208862, -0.09225631505250931, 1.5216126441955566, 1.0616106986999512]>,\n",
       " <Record p.name='Cersei Lannister' p.frp_emb=[-0.9167600870132446, 0.5580523610115051, 1.0806353092193604, 1.2870502471923828]>,\n",
       " <Record p.name='Willem Lannister' p.frp_emb=[-0.22210347652435303, -1.0647058486938477, 0.464213103055954, 0.9750747680664062]>,\n",
       " <Record p.name='Lancel Lannister' p.frp_emb=[-1.2596091032028198, -0.06971631199121475, 1.1430408954620361, 0.9607170224189758]>,\n",
       " <Record p.name='Kevan Lannister' p.frp_emb=[-0.6192851066589355, -0.5045726895332336, 1.2345192432403564, 1.265997290611267]>,\n",
       " <Record p.name='Stafford Lannister' p.frp_emb=[0.11904264241456985, -0.6426668167114258, 0.932864785194397, 1.6196317672729492]>,\n",
       " <Record p.name='Genna Lannister' p.frp_emb=[-0.2817263603210449, -0.19074076414108276, 1.6706454753875732, 0.4252580404281616]>,\n",
       " <Record p.name='Daven Lannister' p.frp_emb=[-0.3947135806083679, -0.012817082926630974, 1.7874504327774048, 0.4424244165420532]>]"
      ]
     },
     "execution_count": 30,
     "metadata": {},
     "output_type": "execute_result"
    }
   ],
   "source": [
    "query = \"\"\"\n",
    "    MATCH (p:Person)\n",
    "    WHERE p.name CONTAINS 'Lannister'\n",
    "    RETURN p.name, p.frp_emb\n",
    "    ORDER BY p.pagerank DESC\n",
    "    LIMIT 10\n",
    "\"\"\"\n",
    "\n",
    "conn.query(query)"
   ]
  },
  {
   "cell_type": "markdown",
   "metadata": {
    "slideshow": {
     "slide_type": "slide"
    }
   },
   "source": [
    "# We can use these embeddings for normal ML-like tasks"
   ]
  },
  {
   "cell_type": "code",
   "execution_count": 32,
   "metadata": {
    "slideshow": {
     "slide_type": "slide"
    }
   },
   "outputs": [
    {
     "data": {
      "text/plain": [
       "[<Record similarity=0.9899932335273712>]"
      ]
     },
     "execution_count": 32,
     "metadata": {},
     "output_type": "execute_result"
    }
   ],
   "source": [
    "query = \"\"\"\n",
    "    MATCH (p1:Person {name: 'Tywin Lannister'})\n",
    "    MATCH (p2:Person {name: 'Jaime Lannister'})\n",
    "    RETURN gds.alpha.similarity.cosine(p1.frp_emb, p2.frp_emb) AS similarity\n",
    "\"\"\"\n",
    "\n",
    "conn.query(query)"
   ]
  },
  {
   "cell_type": "code",
   "execution_count": 35,
   "metadata": {
    "slideshow": {
     "slide_type": "subslide"
    }
   },
   "outputs": [
    {
     "data": {
      "text/plain": [
       "[<Record similarity=0.00886325264686295>]"
      ]
     },
     "execution_count": 35,
     "metadata": {},
     "output_type": "execute_result"
    }
   ],
   "source": [
    "query = \"\"\"\n",
    "    MATCH (p1:Person {name: 'Tywin Lannister'})\n",
    "    MATCH (p2:Person {name: 'Harma'})\n",
    "    RETURN gds.alpha.similarity.cosine(p1.frp_emb, p2.frp_emb) AS similarity\n",
    "\"\"\"\n",
    "\n",
    "conn.query(query)"
   ]
  },
  {
   "cell_type": "code",
   "execution_count": null,
   "metadata": {},
   "outputs": [],
   "source": []
  }
 ],
 "metadata": {
  "interpreter": {
   "hash": "7c5501cba08bf6760fb56f472482ab9f808d13c965fdcbe3c7ffded9eabd7224"
  },
  "kernelspec": {
   "display_name": "Python 3.8.10 64-bit ('test_pipenv-5NlqRU0a': venv)",
   "name": "python3"
  },
  "language_info": {
   "name": "python",
   "version": ""
  },
  "toc-autonumbering": false,
  "toc-showcode": false,
  "toc-showmarkdowntxt": false,
  "toc-showtags": false
 },
 "nbformat": 4,
 "nbformat_minor": 5
}